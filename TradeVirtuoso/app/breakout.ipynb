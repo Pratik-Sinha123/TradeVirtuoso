{
 "cells": [
  {
   "cell_type": "code",
   "execution_count": 2,
   "id": "b2907f41-2ccd-4bba-ad83-9e1f543a56ff",
   "metadata": {},
   "outputs": [],
   "source": [
    "import numpy as np\n",
    "from pandas_datareader import data as pdr\n",
    "import datetime as dt\n",
    "import mplfinance as mpf\n",
    "import yfinance as yf\n",
    "import pandas as pd\n",
    "import pandas_ta as ta\n",
    "import plotly.graph_objects as go\n",
    "import scipy as stats"
   ]
  },
  {
   "cell_type": "code",
   "execution_count": 3,
   "id": "4e1c49e0-4998-4921-9dfa-827488a0caf6",
   "metadata": {},
   "outputs": [],
   "source": [
    "def pattern(df):\n",
    "    df.rename(columns = {'Open':'open','High':'high','Low':'low','Adj Close':'close','Volume':'volume'}, inplace =True)\n",
    "    df['EMA'] = ta.ema(df.close,length=150)\n",
    "    EMAsignal = [0]*len(df)\n",
    "    backcandles= 15 \n",
    "    \n",
    "    for row in range(backcandles,len(df)):\n",
    "        upt=1\n",
    "        dnt=1\n",
    "        for i in range(row-backcandles,row+1):\n",
    "            if max(df.open[i],df.close[i])>=df.EMA[i]:\n",
    "                dnt=0\n",
    "            if min(df.open[i],df.close[i])<=df.EMA[i]:\n",
    "                upt=0\n",
    "        if upt==1 and dnt==1 :\n",
    "            EMAsignal[row]=3\n",
    "        elif upt==1:\n",
    "            EMAsignal[row]=2\n",
    "        elif dnt==1:\n",
    "            EMAsignal[row]=1\n",
    "    df['EMAsignal'] = EMAsignal\n",
    "\n",
    "    def isPivot(candle,window):\n",
    "        if candle-window <0 or candle+window>=len(df):\n",
    "            return 0\n",
    "    \n",
    "        pivotHigh=1\n",
    "        pivotLow=2\n",
    "        for i in range(candle-window,candle+window+1):\n",
    "            if df.iloc[candle].low > df.iloc[i].low:\n",
    "                pivotLow=0\n",
    "            if df.iloc[candle].high < df.iloc[i].high:\n",
    "                pivotHigh=0\n",
    "        if( pivotHigh and pivotLow):\n",
    "            return 3\n",
    "        elif pivotHigh:\n",
    "            return pivotHigh\n",
    "        elif pivotLow:\n",
    "            return pivotLow\n",
    "        else:\n",
    "            return 0\n",
    "    window =10 \n",
    "    df['isPivot'] = df.apply(lambda x: isPivot(x.name,window),axis=1)\n",
    "\n",
    "    def pointposition(x):\n",
    "        if x['isPivot']==2:\n",
    "            return x['low']-1e-3\n",
    "        elif x['isPivot']==1:\n",
    "            return x['high']+1e-3\n",
    "        else:\n",
    "            return np.nan\n",
    "    df['pointposition'] = df.apply(lambda row:pointposition(row),axis=1)\n",
    "\n",
    "    def detect_pattern(candle,backcandles,window):\n",
    "        if(candle<=(backcandles+window)) or (candle+window+1 >= len(df)):\n",
    "            return 0\n",
    "        localdf = df.iloc[candle-backcandles-window:candle-window]\n",
    "        highs = localdf[localdf['isPivot']==1].high.tail(3).values\n",
    "        lows = localdf[localdf['isPivot']==2].low.tail(3).values\n",
    "        cmp= localdf['Close'].values\n",
    "        levelbreak = 0\n",
    "        zone_width = cmp.mean()*0.05\n",
    "        if len(lows)==3:\n",
    "            support_condition = True\n",
    "            mean_low = lows.mean()\n",
    "            for low in lows:\n",
    "                if abs(low-mean_low)>zone_width:\n",
    "                    support_condition =False\n",
    "                    break\n",
    "            if support_condition and (mean_low - df.iloc[candle].close)> zone_width*2 and df.iloc[candle].EMAsignal==1:\n",
    "                levelbreak=1\n",
    "                \n",
    "        if len(highs)==3:\n",
    "            resistance_condition = True\n",
    "            mean_high = highs.mean()\n",
    "            for high in highs:\n",
    "                if abs(high-mean_high)>  zone_width:\n",
    "                    resistance_condition =False\n",
    "                    break\n",
    "            if resistance_condition and (df.iloc[candle].close - mean_high)> zone_width*2 and df.iloc[candle].EMAsignal==2:\n",
    "                levelbreak=2\n",
    "        return levelbreak\n",
    "    df['pattern'] = df.apply(lambda row: detect_pattern(row.name,backcandles=60,window=9),axis=1)\n",
    "\n",
    "    pattern_list = df[df['pattern']!=0]\n",
    "    \n",
    "    return pattern_list    \n",
    "    "
   ]
  },
  {
   "cell_type": "code",
   "execution_count": 4,
   "id": "897d2dc7-8257-4a68-8f68-66c53cbe8e97",
   "metadata": {},
   "outputs": [
    {
     "ename": "AttributeError",
     "evalue": "'function' object has no attribute 'run'",
     "output_type": "error",
     "traceback": [
      "\u001b[1;31m---------------------------------------------------------------------------\u001b[0m",
      "\u001b[1;31mAttributeError\u001b[0m                            Traceback (most recent call last)",
      "Cell \u001b[1;32mIn[4], line 2\u001b[0m\n\u001b[0;32m      1\u001b[0m \u001b[38;5;28;01mif\u001b[39;00m \u001b[38;5;18m__name__\u001b[39m\u001b[38;5;241m==\u001b[39m\u001b[38;5;124m'\u001b[39m\u001b[38;5;124m__main__\u001b[39m\u001b[38;5;124m'\u001b[39m:\n\u001b[1;32m----> 2\u001b[0m     pattern\u001b[38;5;241m.\u001b[39mrun(debug\u001b[38;5;241m=\u001b[39m\u001b[38;5;28;01mTrue\u001b[39;00m)\n",
      "\u001b[1;31mAttributeError\u001b[0m: 'function' object has no attribute 'run'"
     ]
    }
   ],
   "source": [
    "if __name__=='__main__':\n",
    "    pattern.run(debug=True)"
   ]
  },
  {
   "cell_type": "code",
   "execution_count": 6,
   "id": "db6b2a79-ba91-4d89-a53c-35cae76ff5d7",
   "metadata": {},
   "outputs": [
    {
     "data": {
      "text/plain": [
       "'2.1.4'"
      ]
     },
     "execution_count": 6,
     "metadata": {},
     "output_type": "execute_result"
    }
   ],
   "source": [
    "pd.__version__"
   ]
  },
  {
   "cell_type": "code",
   "execution_count": null,
   "id": "10a8adbd-1564-4bdb-bc44-db9fe92e5502",
   "metadata": {},
   "outputs": [],
   "source": []
  }
 ],
 "metadata": {
  "kernelspec": {
   "display_name": "Python 3 (ipykernel)",
   "language": "python",
   "name": "python3"
  },
  "language_info": {
   "codemirror_mode": {
    "name": "ipython",
    "version": 3
   },
   "file_extension": ".py",
   "mimetype": "text/x-python",
   "name": "python",
   "nbconvert_exporter": "python",
   "pygments_lexer": "ipython3",
   "version": "3.11.7"
  }
 },
 "nbformat": 4,
 "nbformat_minor": 5
}
