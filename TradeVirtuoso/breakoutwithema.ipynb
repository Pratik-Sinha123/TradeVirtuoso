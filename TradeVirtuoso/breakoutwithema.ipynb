{
 "cells": [
  {
   "cell_type": "code",
   "execution_count": 95,
   "id": "d6e028b3-1661-42da-bcdf-addb53e02059",
   "metadata": {},
   "outputs": [],
   "source": [
    "import numpy as np\n",
    "from pandas_datareader import data as pdr\n",
    "import datetime as dt\n",
    "import mplfinance as mpf\n",
    "import yfinance as yf\n",
    "import pandas as pd\n",
    "import pandas_ta as ta\n",
    "import plotly.graph_objects as go\n",
    "import scipy as stats"
   ]
  },
  {
   "cell_type": "code",
   "execution_count": 96,
   "id": "dafb538c-f28b-4204-8026-f1848c16e925",
   "metadata": {},
   "outputs": [
    {
     "name": "stderr",
     "output_type": "stream",
     "text": [
      "[*********************100%%**********************]  1 of 1 completed\n"
     ]
    },
    {
     "data": {
      "text/html": [
       "<div>\n",
       "<style scoped>\n",
       "    .dataframe tbody tr th:only-of-type {\n",
       "        vertical-align: middle;\n",
       "    }\n",
       "\n",
       "    .dataframe tbody tr th {\n",
       "        vertical-align: top;\n",
       "    }\n",
       "\n",
       "    .dataframe thead th {\n",
       "        text-align: right;\n",
       "    }\n",
       "</style>\n",
       "<table border=\"1\" class=\"dataframe\">\n",
       "  <thead>\n",
       "    <tr style=\"text-align: right;\">\n",
       "      <th></th>\n",
       "      <th>Open</th>\n",
       "      <th>High</th>\n",
       "      <th>Low</th>\n",
       "      <th>Close</th>\n",
       "      <th>Adj Close</th>\n",
       "      <th>Volume</th>\n",
       "    </tr>\n",
       "  </thead>\n",
       "  <tbody>\n",
       "    <tr>\n",
       "      <th>4763</th>\n",
       "      <td>3476.000000</td>\n",
       "      <td>3488.800049</td>\n",
       "      <td>3257.000000</td>\n",
       "      <td>3280.149902</td>\n",
       "      <td>3280.149902</td>\n",
       "      <td>6891728</td>\n",
       "    </tr>\n",
       "    <tr>\n",
       "      <th>4764</th>\n",
       "      <td>3330.000000</td>\n",
       "      <td>3332.000000</td>\n",
       "      <td>3227.000000</td>\n",
       "      <td>3270.899902</td>\n",
       "      <td>3270.899902</td>\n",
       "      <td>3111444</td>\n",
       "    </tr>\n",
       "    <tr>\n",
       "      <th>4765</th>\n",
       "      <td>3275.399902</td>\n",
       "      <td>3281.000000</td>\n",
       "      <td>3238.449951</td>\n",
       "      <td>3259.850098</td>\n",
       "      <td>3259.850098</td>\n",
       "      <td>2054981</td>\n",
       "    </tr>\n",
       "    <tr>\n",
       "      <th>4766</th>\n",
       "      <td>3259.850098</td>\n",
       "      <td>3322.500000</td>\n",
       "      <td>3233.000000</td>\n",
       "      <td>3245.699951</td>\n",
       "      <td>3245.699951</td>\n",
       "      <td>1860654</td>\n",
       "    </tr>\n",
       "    <tr>\n",
       "      <th>4767</th>\n",
       "      <td>3258.100098</td>\n",
       "      <td>3306.199951</td>\n",
       "      <td>3242.750000</td>\n",
       "      <td>3289.850098</td>\n",
       "      <td>3289.850098</td>\n",
       "      <td>1305917</td>\n",
       "    </tr>\n",
       "  </tbody>\n",
       "</table>\n",
       "</div>"
      ],
      "text/plain": [
       "             Open         High          Low        Close    Adj Close   Volume\n",
       "4763  3476.000000  3488.800049  3257.000000  3280.149902  3280.149902  6891728\n",
       "4764  3330.000000  3332.000000  3227.000000  3270.899902  3270.899902  3111444\n",
       "4765  3275.399902  3281.000000  3238.449951  3259.850098  3259.850098  2054981\n",
       "4766  3259.850098  3322.500000  3233.000000  3245.699951  3245.699951  1860654\n",
       "4767  3258.100098  3306.199951  3242.750000  3289.850098  3289.850098  1305917"
      ]
     },
     "execution_count": 96,
     "metadata": {},
     "output_type": "execute_result"
    }
   ],
   "source": [
    "start = dt.datetime(2005,1,1)\n",
    "end = dt.datetime.today()\n",
    "yf.pdr_override()\n",
    "df = pdr.get_data_yahoo('TITAN.NS',start,end)\n",
    "df=df[df['Volume']!=0]\n",
    "df.reset_index(drop=True, inplace=True)\n",
    "df.isna().sum()\n",
    "df.tail()"
   ]
  },
  {
   "cell_type": "code",
   "execution_count": 97,
   "id": "5a4e9690-926d-458e-8142-9038829d7056",
   "metadata": {},
   "outputs": [
    {
     "name": "stderr",
     "output_type": "stream",
     "text": [
      "C:\\Users\\91907\\AppData\\Local\\Temp\\ipykernel_18856\\1402928550.py:1: SettingWithCopyWarning:\n",
      "\n",
      "\n",
      "A value is trying to be set on a copy of a slice from a DataFrame\n",
      "\n",
      "See the caveats in the documentation: https://pandas.pydata.org/pandas-docs/stable/user_guide/indexing.html#returning-a-view-versus-a-copy\n",
      "\n"
     ]
    }
   ],
   "source": [
    "df.rename(columns = {'Open':'open','High':'high','Low':'low','Adj Close':'close','Volume':'volume'}, inplace =True)"
   ]
  },
  {
   "cell_type": "code",
   "execution_count": 98,
   "id": "2ba624a1-1c7f-4c91-8224-474d8000361b",
   "metadata": {},
   "outputs": [
    {
     "name": "stderr",
     "output_type": "stream",
     "text": [
      "C:\\Users\\91907\\AppData\\Local\\Temp\\ipykernel_18856\\2667145927.py:1: SettingWithCopyWarning:\n",
      "\n",
      "\n",
      "A value is trying to be set on a copy of a slice from a DataFrame.\n",
      "Try using .loc[row_indexer,col_indexer] = value instead\n",
      "\n",
      "See the caveats in the documentation: https://pandas.pydata.org/pandas-docs/stable/user_guide/indexing.html#returning-a-view-versus-a-copy\n",
      "\n"
     ]
    },
    {
     "data": {
      "text/html": [
       "<div>\n",
       "<style scoped>\n",
       "    .dataframe tbody tr th:only-of-type {\n",
       "        vertical-align: middle;\n",
       "    }\n",
       "\n",
       "    .dataframe tbody tr th {\n",
       "        vertical-align: top;\n",
       "    }\n",
       "\n",
       "    .dataframe thead th {\n",
       "        text-align: right;\n",
       "    }\n",
       "</style>\n",
       "<table border=\"1\" class=\"dataframe\">\n",
       "  <thead>\n",
       "    <tr style=\"text-align: right;\">\n",
       "      <th></th>\n",
       "      <th>open</th>\n",
       "      <th>high</th>\n",
       "      <th>low</th>\n",
       "      <th>Close</th>\n",
       "      <th>close</th>\n",
       "      <th>volume</th>\n",
       "      <th>EMA</th>\n",
       "    </tr>\n",
       "  </thead>\n",
       "  <tbody>\n",
       "    <tr>\n",
       "      <th>4763</th>\n",
       "      <td>3476.000000</td>\n",
       "      <td>3488.800049</td>\n",
       "      <td>3257.000000</td>\n",
       "      <td>3280.149902</td>\n",
       "      <td>3280.149902</td>\n",
       "      <td>6891728</td>\n",
       "      <td>3503.150058</td>\n",
       "    </tr>\n",
       "    <tr>\n",
       "      <th>4764</th>\n",
       "      <td>3330.000000</td>\n",
       "      <td>3332.000000</td>\n",
       "      <td>3227.000000</td>\n",
       "      <td>3270.899902</td>\n",
       "      <td>3270.899902</td>\n",
       "      <td>3111444</td>\n",
       "      <td>3500.073897</td>\n",
       "    </tr>\n",
       "    <tr>\n",
       "      <th>4765</th>\n",
       "      <td>3275.399902</td>\n",
       "      <td>3281.000000</td>\n",
       "      <td>3238.449951</td>\n",
       "      <td>3259.850098</td>\n",
       "      <td>3259.850098</td>\n",
       "      <td>2054981</td>\n",
       "      <td>3496.892125</td>\n",
       "    </tr>\n",
       "    <tr>\n",
       "      <th>4766</th>\n",
       "      <td>3259.850098</td>\n",
       "      <td>3322.500000</td>\n",
       "      <td>3233.000000</td>\n",
       "      <td>3245.699951</td>\n",
       "      <td>3245.699951</td>\n",
       "      <td>1860654</td>\n",
       "      <td>3493.565076</td>\n",
       "    </tr>\n",
       "    <tr>\n",
       "      <th>4767</th>\n",
       "      <td>3258.100098</td>\n",
       "      <td>3306.199951</td>\n",
       "      <td>3242.750000</td>\n",
       "      <td>3289.850098</td>\n",
       "      <td>3289.850098</td>\n",
       "      <td>1305917</td>\n",
       "      <td>3490.866864</td>\n",
       "    </tr>\n",
       "  </tbody>\n",
       "</table>\n",
       "</div>"
      ],
      "text/plain": [
       "             open         high          low        Close        close  \\\n",
       "4763  3476.000000  3488.800049  3257.000000  3280.149902  3280.149902   \n",
       "4764  3330.000000  3332.000000  3227.000000  3270.899902  3270.899902   \n",
       "4765  3275.399902  3281.000000  3238.449951  3259.850098  3259.850098   \n",
       "4766  3259.850098  3322.500000  3233.000000  3245.699951  3245.699951   \n",
       "4767  3258.100098  3306.199951  3242.750000  3289.850098  3289.850098   \n",
       "\n",
       "       volume          EMA  \n",
       "4763  6891728  3503.150058  \n",
       "4764  3111444  3500.073897  \n",
       "4765  2054981  3496.892125  \n",
       "4766  1860654  3493.565076  \n",
       "4767  1305917  3490.866864  "
      ]
     },
     "execution_count": 98,
     "metadata": {},
     "output_type": "execute_result"
    }
   ],
   "source": [
    "df['EMA'] = ta.ema(df.close,length=150)\n",
    "df.tail()"
   ]
  },
  {
   "cell_type": "code",
   "execution_count": 99,
   "id": "c5c95f21-2e40-4730-9ed8-710dcd916196",
   "metadata": {},
   "outputs": [
    {
     "name": "stderr",
     "output_type": "stream",
     "text": [
      "C:\\Users\\91907\\AppData\\Local\\Temp\\ipykernel_18856\\2217955075.py:18: SettingWithCopyWarning:\n",
      "\n",
      "\n",
      "A value is trying to be set on a copy of a slice from a DataFrame.\n",
      "Try using .loc[row_indexer,col_indexer] = value instead\n",
      "\n",
      "See the caveats in the documentation: https://pandas.pydata.org/pandas-docs/stable/user_guide/indexing.html#returning-a-view-versus-a-copy\n",
      "\n"
     ]
    }
   ],
   "source": [
    "EMAsignal = [0]*len(df)\n",
    "backcandles= 15 \n",
    "\n",
    "for row in range(backcandles,len(df)):\n",
    "    upt=1\n",
    "    dnt=1\n",
    "    for i in range(row-backcandles,row+1):\n",
    "        if max(df.open[i],df.close[i])>=df.EMA[i]:\n",
    "            dnt=0\n",
    "        if min(df.open[i],df.close[i])<=df.EMA[i]:\n",
    "            upt=0\n",
    "    if upt==1 and dnt==1 :\n",
    "        EMAsignal[row]=3\n",
    "    elif upt==1:\n",
    "        EMAsignal[row]=2\n",
    "    elif dnt==1:\n",
    "        EMAsignal[row]=1\n",
    "df['EMAsignal'] = EMAsignal"
   ]
  },
  {
   "cell_type": "code",
   "execution_count": 100,
   "id": "1113fe91-0068-49ab-9779-3af4d0902a7b",
   "metadata": {},
   "outputs": [],
   "source": [
    "def isPivot(candle,window):\n",
    "    if candle-window <0 or candle+window>=len(df):\n",
    "        return 0\n",
    "\n",
    "    pivotHigh=1\n",
    "    pivotLow=2\n",
    "    for i in range(candle-window,candle+window+1):\n",
    "        if df.iloc[candle].low > df.iloc[i].low:\n",
    "            pivotLow=0\n",
    "        if df.iloc[candle].high < df.iloc[i].high:\n",
    "            pivotHigh=0\n",
    "    if( pivotHigh and pivotLow):\n",
    "        return 3\n",
    "    elif pivotHigh:\n",
    "        return pivotHigh\n",
    "    elif pivotLow:\n",
    "        return pivotLow\n",
    "    else:\n",
    "        return 0"
   ]
  },
  {
   "cell_type": "code",
   "execution_count": 101,
   "id": "412f5fcf-b4cd-4673-85cb-829bbd407802",
   "metadata": {},
   "outputs": [
    {
     "name": "stderr",
     "output_type": "stream",
     "text": [
      "C:\\Users\\91907\\AppData\\Local\\Temp\\ipykernel_18856\\1466689464.py:2: SettingWithCopyWarning:\n",
      "\n",
      "\n",
      "A value is trying to be set on a copy of a slice from a DataFrame.\n",
      "Try using .loc[row_indexer,col_indexer] = value instead\n",
      "\n",
      "See the caveats in the documentation: https://pandas.pydata.org/pandas-docs/stable/user_guide/indexing.html#returning-a-view-versus-a-copy\n",
      "\n"
     ]
    }
   ],
   "source": [
    "window =10 \n",
    "df['isPivot'] = df.apply(lambda x: isPivot(x.name,window),axis=1)"
   ]
  },
  {
   "cell_type": "code",
   "execution_count": 102,
   "id": "c127dc0f-da03-4c3f-b521-8d943789d5b5",
   "metadata": {},
   "outputs": [
    {
     "name": "stderr",
     "output_type": "stream",
     "text": [
      "C:\\Users\\91907\\AppData\\Local\\Temp\\ipykernel_18856\\545382623.py:8: SettingWithCopyWarning:\n",
      "\n",
      "\n",
      "A value is trying to be set on a copy of a slice from a DataFrame.\n",
      "Try using .loc[row_indexer,col_indexer] = value instead\n",
      "\n",
      "See the caveats in the documentation: https://pandas.pydata.org/pandas-docs/stable/user_guide/indexing.html#returning-a-view-versus-a-copy\n",
      "\n"
     ]
    }
   ],
   "source": [
    "def pointposition(x):\n",
    "    if x['isPivot']==2:\n",
    "        return x['low']-1e-3\n",
    "    elif x['isPivot']==1:\n",
    "        return x['high']+1e-3\n",
    "    else:\n",
    "        return np.nan\n",
    "df['pointposition'] = df.apply(lambda row:pointposition(row),axis=1)"
   ]
  },
  {
   "cell_type": "code",
   "execution_count": 103,
   "id": "927d449b-603e-4b50-9586-9948a70e1e37",
   "metadata": {},
   "outputs": [],
   "source": [
    "def detect_pattern(candle,backcandles,window):\n",
    "    if(candle<=(backcandles+window)) or (candle+window+1 >= len(df)):\n",
    "        return 0\n",
    "    localdf = df.iloc[candle-backcandles-window:candle-window]\n",
    "    highs = localdf[localdf['isPivot']==1].high.tail(3).values\n",
    "    lows = localdf[localdf['isPivot']==2].low.tail(3).values\n",
    "    cmp= localdf['Close'].values\n",
    "    levelbreak = 0\n",
    "    zone_width = cmp.mean()*0.05\n",
    "    if len(lows)==3:\n",
    "        support_condition = True\n",
    "        mean_low = lows.mean()\n",
    "        for low in lows:\n",
    "            if abs(low-mean_low)>zone_width:\n",
    "                support_condition =False\n",
    "                break\n",
    "        if support_condition and (mean_low - df.iloc[candle].close)> zone_width*2 and df.iloc[candle].EMAsignal==1:\n",
    "            levelbreak=1\n",
    "            \n",
    "    if len(highs)==3:\n",
    "        resistance_condition = True\n",
    "        mean_high = highs.mean()\n",
    "        for high in highs:\n",
    "            if abs(high-mean_high)>  zone_width:\n",
    "                resistance_condition =False\n",
    "                break\n",
    "        if resistance_condition and (df.iloc[candle].close - mean_high)> zone_width*2 and df.iloc[candle].EMAsignal==2:\n",
    "            levelbreak=2\n",
    "    return levelbreak"
   ]
  },
  {
   "cell_type": "code",
   "execution_count": 104,
   "id": "0df4bae6-435d-4766-b98c-2f114f359c09",
   "metadata": {},
   "outputs": [
    {
     "name": "stderr",
     "output_type": "stream",
     "text": [
      "C:\\Users\\91907\\AppData\\Local\\Temp\\ipykernel_18856\\3353784135.py:1: SettingWithCopyWarning:\n",
      "\n",
      "\n",
      "A value is trying to be set on a copy of a slice from a DataFrame.\n",
      "Try using .loc[row_indexer,col_indexer] = value instead\n",
      "\n",
      "See the caveats in the documentation: https://pandas.pydata.org/pandas-docs/stable/user_guide/indexing.html#returning-a-view-versus-a-copy\n",
      "\n"
     ]
    }
   ],
   "source": [
    "df['pattern'] = df.apply(lambda row: detect_pattern(row.name,backcandles=60,window=9),axis=1)"
   ]
  },
  {
   "cell_type": "code",
   "execution_count": 105,
   "id": "f518c78c-90d4-4b70-b354-e3e91079ed6d",
   "metadata": {},
   "outputs": [],
   "source": [
    "# df['Signal']\n",
    "# for row in len(df):\n",
    "#     if df.pattern[row] == 0:\n",
    "#         df.Signal=\"null\"\n",
    "#     elif df.pattern[row]==1:\n",
    "#         df.Signal[row]=\"Bearish\"\n",
    "#     else:\n",
    "#         df.Signal[row]=\"Bullish\""
   ]
  },
  {
   "cell_type": "code",
   "execution_count": 106,
   "id": "bb8b6db8-6e23-4a50-8280-8b2e21ddb4a6",
   "metadata": {},
   "outputs": [
    {
     "data": {
      "text/html": [
       "<div>\n",
       "<style scoped>\n",
       "    .dataframe tbody tr th:only-of-type {\n",
       "        vertical-align: middle;\n",
       "    }\n",
       "\n",
       "    .dataframe tbody tr th {\n",
       "        vertical-align: top;\n",
       "    }\n",
       "\n",
       "    .dataframe thead th {\n",
       "        text-align: right;\n",
       "    }\n",
       "</style>\n",
       "<table border=\"1\" class=\"dataframe\">\n",
       "  <thead>\n",
       "    <tr style=\"text-align: right;\">\n",
       "      <th></th>\n",
       "      <th>open</th>\n",
       "      <th>high</th>\n",
       "      <th>low</th>\n",
       "      <th>Close</th>\n",
       "      <th>close</th>\n",
       "      <th>volume</th>\n",
       "      <th>EMA</th>\n",
       "      <th>EMAsignal</th>\n",
       "      <th>isPivot</th>\n",
       "      <th>pointposition</th>\n",
       "      <th>pattern</th>\n",
       "    </tr>\n",
       "  </thead>\n",
       "  <tbody>\n",
       "    <tr>\n",
       "      <th>3161</th>\n",
       "      <td>725.700012</td>\n",
       "      <td>824.650024</td>\n",
       "      <td>725.700012</td>\n",
       "      <td>783.700012</td>\n",
       "      <td>766.722717</td>\n",
       "      <td>21820434</td>\n",
       "      <td>544.357416</td>\n",
       "      <td>2</td>\n",
       "      <td>1</td>\n",
       "      <td>824.651024</td>\n",
       "      <td>2</td>\n",
       "    </tr>\n",
       "    <tr>\n",
       "      <th>3162</th>\n",
       "      <td>778.000000</td>\n",
       "      <td>779.799988</td>\n",
       "      <td>748.500000</td>\n",
       "      <td>753.799988</td>\n",
       "      <td>737.470398</td>\n",
       "      <td>5830428</td>\n",
       "      <td>546.915204</td>\n",
       "      <td>2</td>\n",
       "      <td>0</td>\n",
       "      <td>NaN</td>\n",
       "      <td>2</td>\n",
       "    </tr>\n",
       "    <tr>\n",
       "      <th>3163</th>\n",
       "      <td>757.549988</td>\n",
       "      <td>761.450012</td>\n",
       "      <td>738.950012</td>\n",
       "      <td>743.299988</td>\n",
       "      <td>727.197815</td>\n",
       "      <td>2994196</td>\n",
       "      <td>549.303053</td>\n",
       "      <td>2</td>\n",
       "      <td>0</td>\n",
       "      <td>NaN</td>\n",
       "      <td>2</td>\n",
       "    </tr>\n",
       "    <tr>\n",
       "      <th>3164</th>\n",
       "      <td>740.200012</td>\n",
       "      <td>779.700012</td>\n",
       "      <td>740.200012</td>\n",
       "      <td>777.900024</td>\n",
       "      <td>761.048462</td>\n",
       "      <td>5216016</td>\n",
       "      <td>552.107628</td>\n",
       "      <td>2</td>\n",
       "      <td>0</td>\n",
       "      <td>NaN</td>\n",
       "      <td>2</td>\n",
       "    </tr>\n",
       "    <tr>\n",
       "      <th>3165</th>\n",
       "      <td>769.150024</td>\n",
       "      <td>791.900024</td>\n",
       "      <td>766.599976</td>\n",
       "      <td>782.049988</td>\n",
       "      <td>765.108459</td>\n",
       "      <td>3225337</td>\n",
       "      <td>554.928831</td>\n",
       "      <td>2</td>\n",
       "      <td>0</td>\n",
       "      <td>NaN</td>\n",
       "      <td>2</td>\n",
       "    </tr>\n",
       "    <tr>\n",
       "      <th>3166</th>\n",
       "      <td>780.000000</td>\n",
       "      <td>790.549988</td>\n",
       "      <td>762.299988</td>\n",
       "      <td>765.099976</td>\n",
       "      <td>748.525513</td>\n",
       "      <td>1082635</td>\n",
       "      <td>557.493025</td>\n",
       "      <td>2</td>\n",
       "      <td>0</td>\n",
       "      <td>NaN</td>\n",
       "      <td>2</td>\n",
       "    </tr>\n",
       "    <tr>\n",
       "      <th>3167</th>\n",
       "      <td>765.000000</td>\n",
       "      <td>783.450012</td>\n",
       "      <td>757.650024</td>\n",
       "      <td>774.299988</td>\n",
       "      <td>757.526367</td>\n",
       "      <td>1514814</td>\n",
       "      <td>560.142473</td>\n",
       "      <td>2</td>\n",
       "      <td>0</td>\n",
       "      <td>NaN</td>\n",
       "      <td>2</td>\n",
       "    </tr>\n",
       "    <tr>\n",
       "      <th>3168</th>\n",
       "      <td>745.000000</td>\n",
       "      <td>778.500000</td>\n",
       "      <td>745.000000</td>\n",
       "      <td>771.049988</td>\n",
       "      <td>754.346680</td>\n",
       "      <td>1512882</td>\n",
       "      <td>562.714715</td>\n",
       "      <td>2</td>\n",
       "      <td>0</td>\n",
       "      <td>NaN</td>\n",
       "      <td>2</td>\n",
       "    </tr>\n",
       "    <tr>\n",
       "      <th>3169</th>\n",
       "      <td>771.200012</td>\n",
       "      <td>777.650024</td>\n",
       "      <td>765.900024</td>\n",
       "      <td>768.299988</td>\n",
       "      <td>751.656311</td>\n",
       "      <td>794968</td>\n",
       "      <td>565.217252</td>\n",
       "      <td>2</td>\n",
       "      <td>0</td>\n",
       "      <td>NaN</td>\n",
       "      <td>2</td>\n",
       "    </tr>\n",
       "    <tr>\n",
       "      <th>3170</th>\n",
       "      <td>778.400024</td>\n",
       "      <td>798.000000</td>\n",
       "      <td>774.500000</td>\n",
       "      <td>786.299988</td>\n",
       "      <td>769.266357</td>\n",
       "      <td>2404092</td>\n",
       "      <td>567.919889</td>\n",
       "      <td>2</td>\n",
       "      <td>0</td>\n",
       "      <td>NaN</td>\n",
       "      <td>2</td>\n",
       "    </tr>\n",
       "  </tbody>\n",
       "</table>\n",
       "</div>"
      ],
      "text/plain": [
       "            open        high         low       Close       close    volume  \\\n",
       "3161  725.700012  824.650024  725.700012  783.700012  766.722717  21820434   \n",
       "3162  778.000000  779.799988  748.500000  753.799988  737.470398   5830428   \n",
       "3163  757.549988  761.450012  738.950012  743.299988  727.197815   2994196   \n",
       "3164  740.200012  779.700012  740.200012  777.900024  761.048462   5216016   \n",
       "3165  769.150024  791.900024  766.599976  782.049988  765.108459   3225337   \n",
       "3166  780.000000  790.549988  762.299988  765.099976  748.525513   1082635   \n",
       "3167  765.000000  783.450012  757.650024  774.299988  757.526367   1514814   \n",
       "3168  745.000000  778.500000  745.000000  771.049988  754.346680   1512882   \n",
       "3169  771.200012  777.650024  765.900024  768.299988  751.656311    794968   \n",
       "3170  778.400024  798.000000  774.500000  786.299988  769.266357   2404092   \n",
       "\n",
       "             EMA  EMAsignal  isPivot  pointposition  pattern  \n",
       "3161  544.357416          2        1     824.651024        2  \n",
       "3162  546.915204          2        0            NaN        2  \n",
       "3163  549.303053          2        0            NaN        2  \n",
       "3164  552.107628          2        0            NaN        2  \n",
       "3165  554.928831          2        0            NaN        2  \n",
       "3166  557.493025          2        0            NaN        2  \n",
       "3167  560.142473          2        0            NaN        2  \n",
       "3168  562.714715          2        0            NaN        2  \n",
       "3169  565.217252          2        0            NaN        2  \n",
       "3170  567.919889          2        0            NaN        2  "
      ]
     },
     "execution_count": 106,
     "metadata": {},
     "output_type": "execute_result"
    }
   ],
   "source": [
    "df[df['pattern']!=0]"
   ]
  },
  {
   "cell_type": "code",
   "execution_count": 107,
   "id": "8de37f29-96c7-4d66-9161-dad49d6975c2",
   "metadata": {},
   "outputs": [
    {
     "data": {
      "application/vnd.plotly.v1+json": {
       "config": {
        "plotlyServerURL": "https://plot.ly"
       },
       "data": [
        {
         "close": [
          473.45001220703125,
          470.6499938964844,
          469.79998779296875,
          474.8999938964844,
          470.70001220703125,
          471.75,
          551.8499755859375,
          527.1500244140625,
          536.2000122070312,
          529.0999755859375,
          525.4500122070312,
          515.7999877929688,
          520.5499877929688,
          521.9000244140625,
          517.6500244140625,
          516.4000244140625,
          515.2000122070312,
          526.7000122070312,
          523.0999755859375,
          519.9000244140625,
          513.2999877929688,
          516,
          507.29998779296875,
          509.6000061035156,
          524.4500122070312,
          532.4000244140625,
          535.5499877929688,
          531.7999877929688,
          533.9500122070312,
          532.5,
          536.75,
          528.7000122070312,
          530.7999877929688,
          534.1500244140625,
          533.6500244140625,
          533.75,
          527.75,
          533.0499877929688,
          529.7999877929688,
          543.2000122070312,
          538.1500244140625,
          536.1500244140625,
          537.9000244140625,
          527.4500122070312,
          533.1500244140625,
          544.25,
          539.3499755859375,
          552.7999877929688,
          558.0499877929688,
          611.2000122070312,
          614.8499755859375,
          609.4000244140625,
          619.1500244140625,
          610.3499755859375,
          607,
          630.4000244140625,
          627.7000122070312,
          621.5,
          623.5,
          615.5,
          615.0999755859375,
          607.5,
          606.7999877929688,
          612.25,
          600.4500122070312,
          611.5999755859375,
          617.0999755859375,
          613.5,
          612.25,
          638.8499755859375,
          640.7999877929688,
          637,
          633.4000244140625,
          632.9500122070312,
          637.9000244140625,
          630.2999877929688,
          633.5499877929688,
          632.1500244140625,
          646.0999755859375,
          641.5499877929688,
          630.7999877929688,
          618.5499877929688,
          602.2999877929688,
          602.1500244140625,
          592.25,
          590,
          575.6500244140625,
          584.5499877929688,
          600.0499877929688,
          600.9000244140625,
          595.75,
          596.5999755859375,
          616.1500244140625,
          615.8499755859375,
          610.5999755859375,
          623.4500122070312,
          625.1500244140625,
          627.4500122070312,
          625.75,
          612.9000244140625,
          606.9500122070312,
          604.0499877929688,
          606.0499877929688,
          590.75,
          584.6500244140625,
          590.0499877929688,
          618.2999877929688,
          635.25,
          637.4500122070312,
          655.1500244140625,
          659.75,
          783.7000122070312,
          753.7999877929688,
          743.2999877929688,
          777.9000244140625,
          782.0499877929688,
          765.0999755859375,
          774.2999877929688,
          771.0499877929688,
          768.2999877929688,
          786.2999877929688,
          783.9500122070312,
          815.4500122070312,
          813.1500244140625,
          805.9000244140625,
          829.2999877929688,
          832.5999755859375,
          818.0999755859375,
          818.0999755859375,
          818.9000244140625,
          805.25,
          804.5499877929688,
          792.5999755859375,
          773.5999755859375,
          800.5999755859375,
          810.9500122070312,
          820.5999755859375,
          822.4000244140625,
          818.9500122070312,
          816.25,
          832.8499755859375,
          840.0999755859375,
          868.3499755859375,
          862.9500122070312,
          858.4500122070312,
          856.8499755859375,
          854.7999877929688,
          849.0499877929688,
          851.7000122070312,
          858.1500244140625
         ],
         "high": [
          477.95001220703125,
          494.1499938964844,
          471,
          480,
          476.45001220703125,
          474.6000061035156,
          569.2000122070312,
          547.0999755859375,
          547,
          536.2000122070312,
          529.9500122070312,
          541.9000244140625,
          524.7999877929688,
          524.0999755859375,
          524,
          520.7999877929688,
          518,
          530.8499755859375,
          529.8499755859375,
          528.7999877929688,
          521,
          520.2000122070312,
          516.5999755859375,
          518.5999755859375,
          525.5999755859375,
          537,
          539,
          540,
          536.5,
          538.9000244140625,
          538,
          537.9000244140625,
          534.8499755859375,
          537,
          541.9000244140625,
          538.75,
          536.7999877929688,
          535.1500244140625,
          535.6500244140625,
          545.5,
          546.9500122070312,
          542.7000122070312,
          541,
          539.7000122070312,
          535,
          546.5999755859375,
          549.9000244140625,
          555.5499877929688,
          565.4000244140625,
          616.3499755859375,
          618.4000244140625,
          615.7999877929688,
          627.4000244140625,
          618.8499755859375,
          617.5,
          636.6500244140625,
          638.2999877929688,
          631.5499877929688,
          630.4000244140625,
          630,
          627.25,
          620.2000122070312,
          614.25,
          614.8499755859375,
          613.7999877929688,
          614.8499755859375,
          621,
          619.9500122070312,
          620,
          642,
          651,
          645.2000122070312,
          646,
          638.5999755859375,
          640.75,
          648.2999877929688,
          636.9500122070312,
          633.2000122070312,
          650.5,
          654.2000122070312,
          645.9000244140625,
          638.2000122070312,
          617.5499877929688,
          611.4500122070312,
          606.9000244140625,
          603,
          591,
          587.1500244140625,
          601.7999877929688,
          608.5,
          603.75,
          604.9500122070312,
          630.4000244140625,
          621.2999877929688,
          623.7000122070312,
          626.5,
          633.5,
          631,
          631.9500122070312,
          626.7000122070312,
          614.9000244140625,
          607.9500122070312,
          611.4500122070312,
          613.25,
          598.5499877929688,
          592.0999755859375,
          622,
          639.5,
          643.1500244140625,
          661.7999877929688,
          668,
          824.6500244140625,
          779.7999877929688,
          761.4500122070312,
          779.7000122070312,
          791.9000244140625,
          790.5499877929688,
          783.4500122070312,
          778.5,
          777.6500244140625,
          798,
          793.4000244140625,
          819.4500122070312,
          827,
          820.5,
          831.7999877929688,
          838.9000244140625,
          833,
          828.4500122070312,
          822.9000244140625,
          825.7000122070312,
          813.8499755859375,
          810,
          795.3499755859375,
          807,
          821.3499755859375,
          824.9500122070312,
          831.5999755859375,
          844.25,
          828,
          836,
          846.3499755859375,
          871,
          872,
          866.4500122070312,
          868.5999755859375,
          863.9000244140625,
          860.2000122070312,
          856.3499755859375,
          863.75
         ],
         "low": [
          462.8999938964844,
          469,
          462.45001220703125,
          467.54998779296875,
          465.29998779296875,
          467,
          505,
          521.4000244140625,
          528,
          524.0999755859375,
          521.9500122070312,
          513.2999877929688,
          511.3999938964844,
          514,
          516.2000122070312,
          511.79998779296875,
          511.20001220703125,
          512.0499877929688,
          518.6500244140625,
          516.4500122070312,
          507.6499938964844,
          506.5,
          500.6000061035156,
          507.70001220703125,
          503.25,
          527.5,
          526,
          530.2000122070312,
          528.0999755859375,
          529,
          523.2000122070312,
          526.2999877929688,
          528.25,
          525,
          532.0999755859375,
          531.25,
          526.7000122070312,
          527.5,
          528.4000244140625,
          530.2999877929688,
          535.5999755859375,
          534.5499877929688,
          533.2000122070312,
          524.4000244140625,
          525.8499755859375,
          528.8499755859375,
          538.0999755859375,
          538.5,
          546.6500244140625,
          564.7999877929688,
          602.0999755859375,
          604,
          606,
          601.5999755859375,
          601.9000244140625,
          611,
          618.8499755859375,
          619.2000122070312,
          616.5999755859375,
          613,
          610.0999755859375,
          602.2000122070312,
          603.5,
          600.0499877929688,
          598.6500244140625,
          604,
          607.9500122070312,
          610.2000122070312,
          606.5,
          609.7000122070312,
          635.0499877929688,
          629.25,
          631,
          631.9000244140625,
          632.25,
          627.7000122070312,
          628.3499755859375,
          622.6500244140625,
          627.9500122070312,
          640,
          628.3499755859375,
          615.9000244140625,
          600,
          584.7999877929688,
          588.0499877929688,
          586.0499877929688,
          571,
          563.6500244140625,
          588,
          598.6500244140625,
          594.2999877929688,
          594.9000244140625,
          612.5499877929688,
          613.7000122070312,
          607.5999755859375,
          607.8499755859375,
          621,
          622.0499877929688,
          624,
          611,
          601,
          594.9000244140625,
          600.0999755859375,
          589.3499755859375,
          582.0999755859375,
          583.5999755859375,
          589.2000122070312,
          621.2999877929688,
          634.5,
          635.0499877929688,
          652,
          725.7000122070312,
          748.5,
          738.9500122070312,
          740.2000122070312,
          766.5999755859375,
          762.2999877929688,
          757.6500244140625,
          745,
          765.9000244140625,
          774.5,
          778,
          788.25,
          810.1500244140625,
          794.4500122070312,
          796.75,
          825.2999877929688,
          815,
          813,
          808.0999755859375,
          798.5,
          798,
          786.5999755859375,
          770,
          773.5999755859375,
          795.25,
          811,
          814.2000122070312,
          811.8499755859375,
          805.0999755859375,
          818.5,
          802,
          843.0999755859375,
          861.2999877929688,
          854.9500122070312,
          853.9000244140625,
          852.5499877929688,
          842,
          840.5999755859375,
          851.4000244140625
         ],
         "open": [
          464.79998779296875,
          471.79998779296875,
          470,
          469.3999938964844,
          475.95001220703125,
          472.70001220703125,
          511,
          547,
          528,
          535,
          529.9500122070312,
          541.9000244140625,
          516.0999755859375,
          520.5,
          520,
          516,
          515.25,
          514,
          526.4000244140625,
          523,
          520.8499755859375,
          510.1000061035156,
          516.4000244140625,
          510,
          508.95001220703125,
          536.0499877929688,
          533.5,
          539.25,
          532,
          533.9500122070312,
          533,
          537,
          532,
          525.4000244140625,
          538,
          535.5,
          530,
          528.7999877929688,
          531,
          531.7000122070312,
          545.2999877929688,
          540,
          535.2000122070312,
          537.9000244140625,
          527,
          533.7999877929688,
          546.5,
          541.9000244140625,
          555.7999877929688,
          565.0499877929688,
          608,
          607.25,
          611,
          616.9000244140625,
          604,
          611,
          633.5,
          629.5999755859375,
          621.5,
          623.6500244140625,
          617.0999755859375,
          619.9500122070312,
          609.0499877929688,
          603.7000122070312,
          610,
          608.4500122070312,
          610,
          618.9000244140625,
          610,
          613,
          636.9000244140625,
          641.9000244140625,
          645,
          637,
          634.9000244140625,
          638,
          630.5,
          629.9000244140625,
          635.0999755859375,
          654.0499877929688,
          640,
          631.5999755859375,
          617.5499877929688,
          603.7000122070312,
          606.9000244140625,
          602.2999877929688,
          591,
          581.8499755859375,
          588,
          603.4500122070312,
          602.9000244140625,
          599.9500122070312,
          620,
          619.75,
          619.3499755859375,
          615,
          625,
          622.0499877929688,
          630.9000244140625,
          625.7999877929688,
          614,
          601.5,
          604,
          610,
          587,
          586.0999755859375,
          589.2000122070312,
          624,
          640,
          635.0499877929688,
          664,
          725.7000122070312,
          778,
          757.5499877929688,
          740.2000122070312,
          769.1500244140625,
          780,
          765,
          745,
          771.2000122070312,
          778.4000244140625,
          791.0999755859375,
          789,
          820,
          815,
          806.9500122070312,
          838.9000244140625,
          832,
          820,
          812,
          821,
          805.1500244140625,
          808.75,
          790.9500122070312,
          775,
          795.25,
          813,
          820.25,
          821.5,
          820,
          826.25,
          830,
          845,
          869.3499755859375,
          862.9000244140625,
          859,
          857,
          856.4000244140625,
          849.8499755859375,
          854.5
         ],
         "type": "candlestick",
         "x": [
          3050,
          3051,
          3052,
          3053,
          3054,
          3055,
          3056,
          3057,
          3058,
          3059,
          3060,
          3061,
          3062,
          3063,
          3064,
          3065,
          3066,
          3067,
          3068,
          3069,
          3070,
          3071,
          3072,
          3073,
          3074,
          3075,
          3076,
          3077,
          3078,
          3079,
          3080,
          3081,
          3082,
          3083,
          3084,
          3085,
          3086,
          3087,
          3088,
          3089,
          3090,
          3091,
          3092,
          3093,
          3094,
          3095,
          3096,
          3097,
          3098,
          3099,
          3100,
          3101,
          3102,
          3103,
          3104,
          3105,
          3106,
          3107,
          3108,
          3109,
          3110,
          3111,
          3112,
          3113,
          3114,
          3115,
          3116,
          3117,
          3118,
          3119,
          3120,
          3121,
          3122,
          3123,
          3124,
          3125,
          3126,
          3127,
          3128,
          3129,
          3130,
          3131,
          3132,
          3133,
          3134,
          3135,
          3136,
          3137,
          3138,
          3139,
          3140,
          3141,
          3142,
          3143,
          3144,
          3145,
          3146,
          3147,
          3148,
          3149,
          3150,
          3151,
          3152,
          3153,
          3154,
          3155,
          3156,
          3157,
          3158,
          3159,
          3160,
          3161,
          3162,
          3163,
          3164,
          3165,
          3166,
          3167,
          3168,
          3169,
          3170,
          3171,
          3172,
          3173,
          3174,
          3175,
          3176,
          3177,
          3178,
          3179,
          3180,
          3181,
          3182,
          3183,
          3184,
          3185,
          3186,
          3187,
          3188,
          3189,
          3190,
          3191,
          3192,
          3193,
          3194,
          3195,
          3196,
          3197,
          3198,
          3199
         ]
        },
        {
         "marker": {
          "color": "Yellow",
          "size": 5
         },
         "mode": "markers",
         "name": "Pivot",
         "type": "scatter",
         "x": [
          3050,
          3051,
          3052,
          3053,
          3054,
          3055,
          3056,
          3057,
          3058,
          3059,
          3060,
          3061,
          3062,
          3063,
          3064,
          3065,
          3066,
          3067,
          3068,
          3069,
          3070,
          3071,
          3072,
          3073,
          3074,
          3075,
          3076,
          3077,
          3078,
          3079,
          3080,
          3081,
          3082,
          3083,
          3084,
          3085,
          3086,
          3087,
          3088,
          3089,
          3090,
          3091,
          3092,
          3093,
          3094,
          3095,
          3096,
          3097,
          3098,
          3099,
          3100,
          3101,
          3102,
          3103,
          3104,
          3105,
          3106,
          3107,
          3108,
          3109,
          3110,
          3111,
          3112,
          3113,
          3114,
          3115,
          3116,
          3117,
          3118,
          3119,
          3120,
          3121,
          3122,
          3123,
          3124,
          3125,
          3126,
          3127,
          3128,
          3129,
          3130,
          3131,
          3132,
          3133,
          3134,
          3135,
          3136,
          3137,
          3138,
          3139,
          3140,
          3141,
          3142,
          3143,
          3144,
          3145,
          3146,
          3147,
          3148,
          3149,
          3150,
          3151,
          3152,
          3153,
          3154,
          3155,
          3156,
          3157,
          3158,
          3159,
          3160,
          3161,
          3162,
          3163,
          3164,
          3165,
          3166,
          3167,
          3168,
          3169,
          3170,
          3171,
          3172,
          3173,
          3174,
          3175,
          3176,
          3177,
          3178,
          3179,
          3180,
          3181,
          3182,
          3183,
          3184,
          3185,
          3186,
          3187,
          3188,
          3189,
          3190,
          3191,
          3192,
          3193,
          3194,
          3195,
          3196,
          3197,
          3198,
          3199
         ],
         "y": [
          null,
          null,
          null,
          null,
          null,
          null,
          569.2010122070312,
          null,
          null,
          null,
          null,
          null,
          null,
          null,
          null,
          null,
          null,
          null,
          null,
          null,
          null,
          null,
          500.59900610351565,
          null,
          null,
          null,
          null,
          null,
          null,
          null,
          null,
          null,
          null,
          null,
          null,
          null,
          null,
          null,
          null,
          null,
          null,
          null,
          null,
          524.3990244140625,
          null,
          null,
          null,
          null,
          null,
          null,
          null,
          null,
          null,
          null,
          null,
          null,
          638.3009877929687,
          null,
          null,
          null,
          null,
          null,
          null,
          null,
          598.6490244140625,
          null,
          null,
          null,
          null,
          null,
          null,
          null,
          null,
          null,
          null,
          null,
          null,
          null,
          null,
          654.2010122070312,
          null,
          null,
          null,
          null,
          null,
          null,
          null,
          563.6490244140625,
          null,
          null,
          null,
          null,
          null,
          null,
          null,
          null,
          633.501,
          null,
          null,
          null,
          null,
          null,
          null,
          null,
          582.0989755859375,
          null,
          null,
          null,
          null,
          null,
          null,
          824.6510244140625,
          null,
          null,
          null,
          null,
          null,
          null,
          null,
          null,
          null,
          null,
          null,
          null,
          null,
          null,
          838.9010244140625,
          null,
          null,
          null,
          null,
          null,
          null,
          769.999,
          null,
          null,
          null,
          null,
          null,
          null,
          null,
          null,
          null,
          null,
          null,
          null,
          null,
          null,
          null,
          null
         ]
        }
       ],
       "layout": {
        "autosize": true,
        "template": {
         "data": {
          "bar": [
           {
            "error_x": {
             "color": "#2a3f5f"
            },
            "error_y": {
             "color": "#2a3f5f"
            },
            "marker": {
             "line": {
              "color": "#E5ECF6",
              "width": 0.5
             },
             "pattern": {
              "fillmode": "overlay",
              "size": 10,
              "solidity": 0.2
             }
            },
            "type": "bar"
           }
          ],
          "barpolar": [
           {
            "marker": {
             "line": {
              "color": "#E5ECF6",
              "width": 0.5
             },
             "pattern": {
              "fillmode": "overlay",
              "size": 10,
              "solidity": 0.2
             }
            },
            "type": "barpolar"
           }
          ],
          "carpet": [
           {
            "aaxis": {
             "endlinecolor": "#2a3f5f",
             "gridcolor": "white",
             "linecolor": "white",
             "minorgridcolor": "white",
             "startlinecolor": "#2a3f5f"
            },
            "baxis": {
             "endlinecolor": "#2a3f5f",
             "gridcolor": "white",
             "linecolor": "white",
             "minorgridcolor": "white",
             "startlinecolor": "#2a3f5f"
            },
            "type": "carpet"
           }
          ],
          "choropleth": [
           {
            "colorbar": {
             "outlinewidth": 0,
             "ticks": ""
            },
            "type": "choropleth"
           }
          ],
          "contour": [
           {
            "colorbar": {
             "outlinewidth": 0,
             "ticks": ""
            },
            "colorscale": [
             [
              0,
              "#0d0887"
             ],
             [
              0.1111111111111111,
              "#46039f"
             ],
             [
              0.2222222222222222,
              "#7201a8"
             ],
             [
              0.3333333333333333,
              "#9c179e"
             ],
             [
              0.4444444444444444,
              "#bd3786"
             ],
             [
              0.5555555555555556,
              "#d8576b"
             ],
             [
              0.6666666666666666,
              "#ed7953"
             ],
             [
              0.7777777777777778,
              "#fb9f3a"
             ],
             [
              0.8888888888888888,
              "#fdca26"
             ],
             [
              1,
              "#f0f921"
             ]
            ],
            "type": "contour"
           }
          ],
          "contourcarpet": [
           {
            "colorbar": {
             "outlinewidth": 0,
             "ticks": ""
            },
            "type": "contourcarpet"
           }
          ],
          "heatmap": [
           {
            "colorbar": {
             "outlinewidth": 0,
             "ticks": ""
            },
            "colorscale": [
             [
              0,
              "#0d0887"
             ],
             [
              0.1111111111111111,
              "#46039f"
             ],
             [
              0.2222222222222222,
              "#7201a8"
             ],
             [
              0.3333333333333333,
              "#9c179e"
             ],
             [
              0.4444444444444444,
              "#bd3786"
             ],
             [
              0.5555555555555556,
              "#d8576b"
             ],
             [
              0.6666666666666666,
              "#ed7953"
             ],
             [
              0.7777777777777778,
              "#fb9f3a"
             ],
             [
              0.8888888888888888,
              "#fdca26"
             ],
             [
              1,
              "#f0f921"
             ]
            ],
            "type": "heatmap"
           }
          ],
          "heatmapgl": [
           {
            "colorbar": {
             "outlinewidth": 0,
             "ticks": ""
            },
            "colorscale": [
             [
              0,
              "#0d0887"
             ],
             [
              0.1111111111111111,
              "#46039f"
             ],
             [
              0.2222222222222222,
              "#7201a8"
             ],
             [
              0.3333333333333333,
              "#9c179e"
             ],
             [
              0.4444444444444444,
              "#bd3786"
             ],
             [
              0.5555555555555556,
              "#d8576b"
             ],
             [
              0.6666666666666666,
              "#ed7953"
             ],
             [
              0.7777777777777778,
              "#fb9f3a"
             ],
             [
              0.8888888888888888,
              "#fdca26"
             ],
             [
              1,
              "#f0f921"
             ]
            ],
            "type": "heatmapgl"
           }
          ],
          "histogram": [
           {
            "marker": {
             "pattern": {
              "fillmode": "overlay",
              "size": 10,
              "solidity": 0.2
             }
            },
            "type": "histogram"
           }
          ],
          "histogram2d": [
           {
            "colorbar": {
             "outlinewidth": 0,
             "ticks": ""
            },
            "colorscale": [
             [
              0,
              "#0d0887"
             ],
             [
              0.1111111111111111,
              "#46039f"
             ],
             [
              0.2222222222222222,
              "#7201a8"
             ],
             [
              0.3333333333333333,
              "#9c179e"
             ],
             [
              0.4444444444444444,
              "#bd3786"
             ],
             [
              0.5555555555555556,
              "#d8576b"
             ],
             [
              0.6666666666666666,
              "#ed7953"
             ],
             [
              0.7777777777777778,
              "#fb9f3a"
             ],
             [
              0.8888888888888888,
              "#fdca26"
             ],
             [
              1,
              "#f0f921"
             ]
            ],
            "type": "histogram2d"
           }
          ],
          "histogram2dcontour": [
           {
            "colorbar": {
             "outlinewidth": 0,
             "ticks": ""
            },
            "colorscale": [
             [
              0,
              "#0d0887"
             ],
             [
              0.1111111111111111,
              "#46039f"
             ],
             [
              0.2222222222222222,
              "#7201a8"
             ],
             [
              0.3333333333333333,
              "#9c179e"
             ],
             [
              0.4444444444444444,
              "#bd3786"
             ],
             [
              0.5555555555555556,
              "#d8576b"
             ],
             [
              0.6666666666666666,
              "#ed7953"
             ],
             [
              0.7777777777777778,
              "#fb9f3a"
             ],
             [
              0.8888888888888888,
              "#fdca26"
             ],
             [
              1,
              "#f0f921"
             ]
            ],
            "type": "histogram2dcontour"
           }
          ],
          "mesh3d": [
           {
            "colorbar": {
             "outlinewidth": 0,
             "ticks": ""
            },
            "type": "mesh3d"
           }
          ],
          "parcoords": [
           {
            "line": {
             "colorbar": {
              "outlinewidth": 0,
              "ticks": ""
             }
            },
            "type": "parcoords"
           }
          ],
          "pie": [
           {
            "automargin": true,
            "type": "pie"
           }
          ],
          "scatter": [
           {
            "fillpattern": {
             "fillmode": "overlay",
             "size": 10,
             "solidity": 0.2
            },
            "type": "scatter"
           }
          ],
          "scatter3d": [
           {
            "line": {
             "colorbar": {
              "outlinewidth": 0,
              "ticks": ""
             }
            },
            "marker": {
             "colorbar": {
              "outlinewidth": 0,
              "ticks": ""
             }
            },
            "type": "scatter3d"
           }
          ],
          "scattercarpet": [
           {
            "marker": {
             "colorbar": {
              "outlinewidth": 0,
              "ticks": ""
             }
            },
            "type": "scattercarpet"
           }
          ],
          "scattergeo": [
           {
            "marker": {
             "colorbar": {
              "outlinewidth": 0,
              "ticks": ""
             }
            },
            "type": "scattergeo"
           }
          ],
          "scattergl": [
           {
            "marker": {
             "colorbar": {
              "outlinewidth": 0,
              "ticks": ""
             }
            },
            "type": "scattergl"
           }
          ],
          "scattermapbox": [
           {
            "marker": {
             "colorbar": {
              "outlinewidth": 0,
              "ticks": ""
             }
            },
            "type": "scattermapbox"
           }
          ],
          "scatterpolar": [
           {
            "marker": {
             "colorbar": {
              "outlinewidth": 0,
              "ticks": ""
             }
            },
            "type": "scatterpolar"
           }
          ],
          "scatterpolargl": [
           {
            "marker": {
             "colorbar": {
              "outlinewidth": 0,
              "ticks": ""
             }
            },
            "type": "scatterpolargl"
           }
          ],
          "scatterternary": [
           {
            "marker": {
             "colorbar": {
              "outlinewidth": 0,
              "ticks": ""
             }
            },
            "type": "scatterternary"
           }
          ],
          "surface": [
           {
            "colorbar": {
             "outlinewidth": 0,
             "ticks": ""
            },
            "colorscale": [
             [
              0,
              "#0d0887"
             ],
             [
              0.1111111111111111,
              "#46039f"
             ],
             [
              0.2222222222222222,
              "#7201a8"
             ],
             [
              0.3333333333333333,
              "#9c179e"
             ],
             [
              0.4444444444444444,
              "#bd3786"
             ],
             [
              0.5555555555555556,
              "#d8576b"
             ],
             [
              0.6666666666666666,
              "#ed7953"
             ],
             [
              0.7777777777777778,
              "#fb9f3a"
             ],
             [
              0.8888888888888888,
              "#fdca26"
             ],
             [
              1,
              "#f0f921"
             ]
            ],
            "type": "surface"
           }
          ],
          "table": [
           {
            "cells": {
             "fill": {
              "color": "#EBF0F8"
             },
             "line": {
              "color": "white"
             }
            },
            "header": {
             "fill": {
              "color": "#C8D4E3"
             },
             "line": {
              "color": "white"
             }
            },
            "type": "table"
           }
          ]
         },
         "layout": {
          "annotationdefaults": {
           "arrowcolor": "#2a3f5f",
           "arrowhead": 0,
           "arrowwidth": 1
          },
          "autotypenumbers": "strict",
          "coloraxis": {
           "colorbar": {
            "outlinewidth": 0,
            "ticks": ""
           }
          },
          "colorscale": {
           "diverging": [
            [
             0,
             "#8e0152"
            ],
            [
             0.1,
             "#c51b7d"
            ],
            [
             0.2,
             "#de77ae"
            ],
            [
             0.3,
             "#f1b6da"
            ],
            [
             0.4,
             "#fde0ef"
            ],
            [
             0.5,
             "#f7f7f7"
            ],
            [
             0.6,
             "#e6f5d0"
            ],
            [
             0.7,
             "#b8e186"
            ],
            [
             0.8,
             "#7fbc41"
            ],
            [
             0.9,
             "#4d9221"
            ],
            [
             1,
             "#276419"
            ]
           ],
           "sequential": [
            [
             0,
             "#0d0887"
            ],
            [
             0.1111111111111111,
             "#46039f"
            ],
            [
             0.2222222222222222,
             "#7201a8"
            ],
            [
             0.3333333333333333,
             "#9c179e"
            ],
            [
             0.4444444444444444,
             "#bd3786"
            ],
            [
             0.5555555555555556,
             "#d8576b"
            ],
            [
             0.6666666666666666,
             "#ed7953"
            ],
            [
             0.7777777777777778,
             "#fb9f3a"
            ],
            [
             0.8888888888888888,
             "#fdca26"
            ],
            [
             1,
             "#f0f921"
            ]
           ],
           "sequentialminus": [
            [
             0,
             "#0d0887"
            ],
            [
             0.1111111111111111,
             "#46039f"
            ],
            [
             0.2222222222222222,
             "#7201a8"
            ],
            [
             0.3333333333333333,
             "#9c179e"
            ],
            [
             0.4444444444444444,
             "#bd3786"
            ],
            [
             0.5555555555555556,
             "#d8576b"
            ],
            [
             0.6666666666666666,
             "#ed7953"
            ],
            [
             0.7777777777777778,
             "#fb9f3a"
            ],
            [
             0.8888888888888888,
             "#fdca26"
            ],
            [
             1,
             "#f0f921"
            ]
           ]
          },
          "colorway": [
           "#636efa",
           "#EF553B",
           "#00cc96",
           "#ab63fa",
           "#FFA15A",
           "#19d3f3",
           "#FF6692",
           "#B6E880",
           "#FF97FF",
           "#FECB52"
          ],
          "font": {
           "color": "#2a3f5f"
          },
          "geo": {
           "bgcolor": "white",
           "lakecolor": "white",
           "landcolor": "#E5ECF6",
           "showlakes": true,
           "showland": true,
           "subunitcolor": "white"
          },
          "hoverlabel": {
           "align": "left"
          },
          "hovermode": "closest",
          "mapbox": {
           "style": "light"
          },
          "paper_bgcolor": "white",
          "plot_bgcolor": "#E5ECF6",
          "polar": {
           "angularaxis": {
            "gridcolor": "white",
            "linecolor": "white",
            "ticks": ""
           },
           "bgcolor": "#E5ECF6",
           "radialaxis": {
            "gridcolor": "white",
            "linecolor": "white",
            "ticks": ""
           }
          },
          "scene": {
           "xaxis": {
            "backgroundcolor": "#E5ECF6",
            "gridcolor": "white",
            "gridwidth": 2,
            "linecolor": "white",
            "showbackground": true,
            "ticks": "",
            "zerolinecolor": "white"
           },
           "yaxis": {
            "backgroundcolor": "#E5ECF6",
            "gridcolor": "white",
            "gridwidth": 2,
            "linecolor": "white",
            "showbackground": true,
            "ticks": "",
            "zerolinecolor": "white"
           },
           "zaxis": {
            "backgroundcolor": "#E5ECF6",
            "gridcolor": "white",
            "gridwidth": 2,
            "linecolor": "white",
            "showbackground": true,
            "ticks": "",
            "zerolinecolor": "white"
           }
          },
          "shapedefaults": {
           "line": {
            "color": "#2a3f5f"
           }
          },
          "ternary": {
           "aaxis": {
            "gridcolor": "white",
            "linecolor": "white",
            "ticks": ""
           },
           "baxis": {
            "gridcolor": "white",
            "linecolor": "white",
            "ticks": ""
           },
           "bgcolor": "#E5ECF6",
           "caxis": {
            "gridcolor": "white",
            "linecolor": "white",
            "ticks": ""
           }
          },
          "title": {
           "x": 0.05
          },
          "xaxis": {
           "automargin": true,
           "gridcolor": "white",
           "linecolor": "white",
           "ticks": "",
           "title": {
            "standoff": 15
           },
           "zerolinecolor": "white",
           "zerolinewidth": 2
          },
          "yaxis": {
           "automargin": true,
           "gridcolor": "white",
           "linecolor": "white",
           "ticks": "",
           "title": {
            "standoff": 15
           },
           "zerolinecolor": "white",
           "zerolinewidth": 2
          }
         }
        },
        "xaxis": {
         "autorange": true,
         "range": [
          3041.082121868234,
          3207.917878131766
         ],
         "rangeslider": {
          "visible": false,
          "yaxis": {}
         },
         "type": "linear"
        },
        "yaxis": {
         "autorange": true,
         "range": [
          439.6972351074219,
          894.7527770996094
         ],
         "type": "linear"
        }
       }
      },
      "image/png": "[encoded data removed]",
      "text/html": [
       "<div>                            <div id=\"d5559c1c-bfe3-4733-ac6c-2191f2252f09\" class=\"plotly-graph-div\" style=\"height:525px; width:100%;\"></div>            <script type=\"text/javascript\">                require([\"plotly\"], function(Plotly) {                    window.PLOTLYENV=window.PLOTLYENV || {};                                    if (document.getElementById(\"d5559c1c-bfe3-4733-ac6c-2191f2252f09\")) {                    Plotly.newPlot(                        \"d5559c1c-bfe3-4733-ac6c-2191f2252f09\",                        [{\"close\":[473.45001220703125,470.6499938964844,469.79998779296875,474.8999938964844,470.70001220703125,471.75,551.8499755859375,527.1500244140625,536.2000122070312,529.0999755859375,525.4500122070312,515.7999877929688,520.5499877929688,521.9000244140625,517.6500244140625,516.4000244140625,515.2000122070312,526.7000122070312,523.0999755859375,519.9000244140625,513.2999877929688,516.0,507.29998779296875,509.6000061035156,524.4500122070312,532.4000244140625,535.5499877929688,531.7999877929688,533.9500122070312,532.5,536.75,528.7000122070312,530.7999877929688,534.1500244140625,533.6500244140625,533.75,527.75,533.0499877929688,529.7999877929688,543.2000122070312,538.1500244140625,536.1500244140625,537.9000244140625,527.4500122070312,533.1500244140625,544.25,539.3499755859375,552.7999877929688,558.0499877929688,611.2000122070312,614.8499755859375,609.4000244140625,619.1500244140625,610.3499755859375,607.0,630.4000244140625,627.7000122070312,621.5,623.5,615.5,615.0999755859375,607.5,606.7999877929688,612.25,600.4500122070312,611.5999755859375,617.0999755859375,613.5,612.25,638.8499755859375,640.7999877929688,637.0,633.4000244140625,632.9500122070312,637.9000244140625,630.2999877929688,633.5499877929688,632.1500244140625,646.0999755859375,641.5499877929688,630.7999877929688,618.5499877929688,602.2999877929688,602.1500244140625,592.25,590.0,575.6500244140625,584.5499877929688,600.0499877929688,600.9000244140625,595.75,596.5999755859375,616.1500244140625,615.8499755859375,610.5999755859375,623.4500122070312,625.1500244140625,627.4500122070312,625.75,612.9000244140625,606.9500122070312,604.0499877929688,606.0499877929688,590.75,584.6500244140625,590.0499877929688,618.2999877929688,635.25,637.4500122070312,655.1500244140625,659.75,783.7000122070312,753.7999877929688,743.2999877929688,777.9000244140625,782.0499877929688,765.0999755859375,774.2999877929688,771.0499877929688,768.2999877929688,786.2999877929688,783.9500122070312,815.4500122070312,813.1500244140625,805.9000244140625,829.2999877929688,832.5999755859375,818.0999755859375,818.0999755859375,818.9000244140625,805.25,804.5499877929688,792.5999755859375,773.5999755859375,800.5999755859375,810.9500122070312,820.5999755859375,822.4000244140625,818.9500122070312,816.25,832.8499755859375,840.0999755859375,868.3499755859375,862.9500122070312,858.4500122070312,856.8499755859375,854.7999877929688,849.0499877929688,851.7000122070312,858.1500244140625],\"high\":[477.95001220703125,494.1499938964844,471.0,480.0,476.45001220703125,474.6000061035156,569.2000122070312,547.0999755859375,547.0,536.2000122070312,529.9500122070312,541.9000244140625,524.7999877929688,524.0999755859375,524.0,520.7999877929688,518.0,530.8499755859375,529.8499755859375,528.7999877929688,521.0,520.2000122070312,516.5999755859375,518.5999755859375,525.5999755859375,537.0,539.0,540.0,536.5,538.9000244140625,538.0,537.9000244140625,534.8499755859375,537.0,541.9000244140625,538.75,536.7999877929688,535.1500244140625,535.6500244140625,545.5,546.9500122070312,542.7000122070312,541.0,539.7000122070312,535.0,546.5999755859375,549.9000244140625,555.5499877929688,565.4000244140625,616.3499755859375,618.4000244140625,615.7999877929688,627.4000244140625,618.8499755859375,617.5,636.6500244140625,638.2999877929688,631.5499877929688,630.4000244140625,630.0,627.25,620.2000122070312,614.25,614.8499755859375,613.7999877929688,614.8499755859375,621.0,619.9500122070312,620.0,642.0,651.0,645.2000122070312,646.0,638.5999755859375,640.75,648.2999877929688,636.9500122070312,633.2000122070312,650.5,654.2000122070312,645.9000244140625,638.2000122070312,617.5499877929688,611.4500122070312,606.9000244140625,603.0,591.0,587.1500244140625,601.7999877929688,608.5,603.75,604.9500122070312,630.4000244140625,621.2999877929688,623.7000122070312,626.5,633.5,631.0,631.9500122070312,626.7000122070312,614.9000244140625,607.9500122070312,611.4500122070312,613.25,598.5499877929688,592.0999755859375,622.0,639.5,643.1500244140625,661.7999877929688,668.0,824.6500244140625,779.7999877929688,761.4500122070312,779.7000122070312,791.9000244140625,790.5499877929688,783.4500122070312,778.5,777.6500244140625,798.0,793.4000244140625,819.4500122070312,827.0,820.5,831.7999877929688,838.9000244140625,833.0,828.4500122070312,822.9000244140625,825.7000122070312,813.8499755859375,810.0,795.3499755859375,807.0,821.3499755859375,824.9500122070312,831.5999755859375,844.25,828.0,836.0,846.3499755859375,871.0,872.0,866.4500122070312,868.5999755859375,863.9000244140625,860.2000122070312,856.3499755859375,863.75],\"low\":[462.8999938964844,469.0,462.45001220703125,467.54998779296875,465.29998779296875,467.0,505.0,521.4000244140625,528.0,524.0999755859375,521.9500122070312,513.2999877929688,511.3999938964844,514.0,516.2000122070312,511.79998779296875,511.20001220703125,512.0499877929688,518.6500244140625,516.4500122070312,507.6499938964844,506.5,500.6000061035156,507.70001220703125,503.25,527.5,526.0,530.2000122070312,528.0999755859375,529.0,523.2000122070312,526.2999877929688,528.25,525.0,532.0999755859375,531.25,526.7000122070312,527.5,528.4000244140625,530.2999877929688,535.5999755859375,534.5499877929688,533.2000122070312,524.4000244140625,525.8499755859375,528.8499755859375,538.0999755859375,538.5,546.6500244140625,564.7999877929688,602.0999755859375,604.0,606.0,601.5999755859375,601.9000244140625,611.0,618.8499755859375,619.2000122070312,616.5999755859375,613.0,610.0999755859375,602.2000122070312,603.5,600.0499877929688,598.6500244140625,604.0,607.9500122070312,610.2000122070312,606.5,609.7000122070312,635.0499877929688,629.25,631.0,631.9000244140625,632.25,627.7000122070312,628.3499755859375,622.6500244140625,627.9500122070312,640.0,628.3499755859375,615.9000244140625,600.0,584.7999877929688,588.0499877929688,586.0499877929688,571.0,563.6500244140625,588.0,598.6500244140625,594.2999877929688,594.9000244140625,612.5499877929688,613.7000122070312,607.5999755859375,607.8499755859375,621.0,622.0499877929688,624.0,611.0,601.0,594.9000244140625,600.0999755859375,589.3499755859375,582.0999755859375,583.5999755859375,589.2000122070312,621.2999877929688,634.5,635.0499877929688,652.0,725.7000122070312,748.5,738.9500122070312,740.2000122070312,766.5999755859375,762.2999877929688,757.6500244140625,745.0,765.9000244140625,774.5,778.0,788.25,810.1500244140625,794.4500122070312,796.75,825.2999877929688,815.0,813.0,808.0999755859375,798.5,798.0,786.5999755859375,770.0,773.5999755859375,795.25,811.0,814.2000122070312,811.8499755859375,805.0999755859375,818.5,802.0,843.0999755859375,861.2999877929688,854.9500122070312,853.9000244140625,852.5499877929688,842.0,840.5999755859375,851.4000244140625],\"open\":[464.79998779296875,471.79998779296875,470.0,469.3999938964844,475.95001220703125,472.70001220703125,511.0,547.0,528.0,535.0,529.9500122070312,541.9000244140625,516.0999755859375,520.5,520.0,516.0,515.25,514.0,526.4000244140625,523.0,520.8499755859375,510.1000061035156,516.4000244140625,510.0,508.95001220703125,536.0499877929688,533.5,539.25,532.0,533.9500122070312,533.0,537.0,532.0,525.4000244140625,538.0,535.5,530.0,528.7999877929688,531.0,531.7000122070312,545.2999877929688,540.0,535.2000122070312,537.9000244140625,527.0,533.7999877929688,546.5,541.9000244140625,555.7999877929688,565.0499877929688,608.0,607.25,611.0,616.9000244140625,604.0,611.0,633.5,629.5999755859375,621.5,623.6500244140625,617.0999755859375,619.9500122070312,609.0499877929688,603.7000122070312,610.0,608.4500122070312,610.0,618.9000244140625,610.0,613.0,636.9000244140625,641.9000244140625,645.0,637.0,634.9000244140625,638.0,630.5,629.9000244140625,635.0999755859375,654.0499877929688,640.0,631.5999755859375,617.5499877929688,603.7000122070312,606.9000244140625,602.2999877929688,591.0,581.8499755859375,588.0,603.4500122070312,602.9000244140625,599.9500122070312,620.0,619.75,619.3499755859375,615.0,625.0,622.0499877929688,630.9000244140625,625.7999877929688,614.0,601.5,604.0,610.0,587.0,586.0999755859375,589.2000122070312,624.0,640.0,635.0499877929688,664.0,725.7000122070312,778.0,757.5499877929688,740.2000122070312,769.1500244140625,780.0,765.0,745.0,771.2000122070312,778.4000244140625,791.0999755859375,789.0,820.0,815.0,806.9500122070312,838.9000244140625,832.0,820.0,812.0,821.0,805.1500244140625,808.75,790.9500122070312,775.0,795.25,813.0,820.25,821.5,820.0,826.25,830.0,845.0,869.3499755859375,862.9000244140625,859.0,857.0,856.4000244140625,849.8499755859375,854.5],\"x\":[3050,3051,3052,3053,3054,3055,3056,3057,3058,3059,3060,3061,3062,3063,3064,3065,3066,3067,3068,3069,3070,3071,3072,3073,3074,3075,3076,3077,3078,3079,3080,3081,3082,3083,3084,3085,3086,3087,3088,3089,3090,3091,3092,3093,3094,3095,3096,3097,3098,3099,3100,3101,3102,3103,3104,3105,3106,3107,3108,3109,3110,3111,3112,3113,3114,3115,3116,3117,3118,3119,3120,3121,3122,3123,3124,3125,3126,3127,3128,3129,3130,3131,3132,3133,3134,3135,3136,3137,3138,3139,3140,3141,3142,3143,3144,3145,3146,3147,3148,3149,3150,3151,3152,3153,3154,3155,3156,3157,3158,3159,3160,3161,3162,3163,3164,3165,3166,3167,3168,3169,3170,3171,3172,3173,3174,3175,3176,3177,3178,3179,3180,3181,3182,3183,3184,3185,3186,3187,3188,3189,3190,3191,3192,3193,3194,3195,3196,3197,3198,3199],\"type\":\"candlestick\"},{\"marker\":{\"color\":\"Yellow\",\"size\":5},\"mode\":\"markers\",\"name\":\"Pivot\",\"x\":[3050,3051,3052,3053,3054,3055,3056,3057,3058,3059,3060,3061,3062,3063,3064,3065,3066,3067,3068,3069,3070,3071,3072,3073,3074,3075,3076,3077,3078,3079,3080,3081,3082,3083,3084,3085,3086,3087,3088,3089,3090,3091,3092,3093,3094,3095,3096,3097,3098,3099,3100,3101,3102,3103,3104,3105,3106,3107,3108,3109,3110,3111,3112,3113,3114,3115,3116,3117,3118,3119,3120,3121,3122,3123,3124,3125,3126,3127,3128,3129,3130,3131,3132,3133,3134,3135,3136,3137,3138,3139,3140,3141,3142,3143,3144,3145,3146,3147,3148,3149,3150,3151,3152,3153,3154,3155,3156,3157,3158,3159,3160,3161,3162,3163,3164,3165,3166,3167,3168,3169,3170,3171,3172,3173,3174,3175,3176,3177,3178,3179,3180,3181,3182,3183,3184,3185,3186,3187,3188,3189,3190,3191,3192,3193,3194,3195,3196,3197,3198,3199],\"y\":[null,null,null,null,null,null,569.2010122070312,null,null,null,null,null,null,null,null,null,null,null,null,null,null,null,500.59900610351565,null,null,null,null,null,null,null,null,null,null,null,null,null,null,null,null,null,null,null,null,524.3990244140625,null,null,null,null,null,null,null,null,null,null,null,null,638.3009877929687,null,null,null,null,null,null,null,598.6490244140625,null,null,null,null,null,null,null,null,null,null,null,null,null,null,654.2010122070312,null,null,null,null,null,null,null,563.6490244140625,null,null,null,null,null,null,null,null,633.501,null,null,null,null,null,null,null,582.0989755859375,null,null,null,null,null,null,824.6510244140625,null,null,null,null,null,null,null,null,null,null,null,null,null,null,838.9010244140625,null,null,null,null,null,null,769.999,null,null,null,null,null,null,null,null,null,null,null,null,null,null,null,null],\"type\":\"scatter\"}],                        {\"template\":{\"data\":{\"histogram2dcontour\":[{\"type\":\"histogram2dcontour\",\"colorbar\":{\"outlinewidth\":0,\"ticks\":\"\"},\"colorscale\":[[0.0,\"#0d0887\"],[0.1111111111111111,\"#46039f\"],[0.2222222222222222,\"#7201a8\"],[0.3333333333333333,\"#9c179e\"],[0.4444444444444444,\"#bd3786\"],[0.5555555555555556,\"#d8576b\"],[0.6666666666666666,\"#ed7953\"],[0.7777777777777778,\"#fb9f3a\"],[0.8888888888888888,\"#fdca26\"],[1.0,\"#f0f921\"]]}],\"choropleth\":[{\"type\":\"choropleth\",\"colorbar\":{\"outlinewidth\":0,\"ticks\":\"\"}}],\"histogram2d\":[{\"type\":\"histogram2d\",\"colorbar\":{\"outlinewidth\":0,\"ticks\":\"\"},\"colorscale\":[[0.0,\"#0d0887\"],[0.1111111111111111,\"#46039f\"],[0.2222222222222222,\"#7201a8\"],[0.3333333333333333,\"#9c179e\"],[0.4444444444444444,\"#bd3786\"],[0.5555555555555556,\"#d8576b\"],[0.6666666666666666,\"#ed7953\"],[0.7777777777777778,\"#fb9f3a\"],[0.8888888888888888,\"#fdca26\"],[1.0,\"#f0f921\"]]}],\"heatmap\":[{\"type\":\"heatmap\",\"colorbar\":{\"outlinewidth\":0,\"ticks\":\"\"},\"colorscale\":[[0.0,\"#0d0887\"],[0.1111111111111111,\"#46039f\"],[0.2222222222222222,\"#7201a8\"],[0.3333333333333333,\"#9c179e\"],[0.4444444444444444,\"#bd3786\"],[0.5555555555555556,\"#d8576b\"],[0.6666666666666666,\"#ed7953\"],[0.7777777777777778,\"#fb9f3a\"],[0.8888888888888888,\"#fdca26\"],[1.0,\"#f0f921\"]]}],\"heatmapgl\":[{\"type\":\"heatmapgl\",\"colorbar\":{\"outlinewidth\":0,\"ticks\":\"\"},\"colorscale\":[[0.0,\"#0d0887\"],[0.1111111111111111,\"#46039f\"],[0.2222222222222222,\"#7201a8\"],[0.3333333333333333,\"#9c179e\"],[0.4444444444444444,\"#bd3786\"],[0.5555555555555556,\"#d8576b\"],[0.6666666666666666,\"#ed7953\"],[0.7777777777777778,\"#fb9f3a\"],[0.8888888888888888,\"#fdca26\"],[1.0,\"#f0f921\"]]}],\"contourcarpet\":[{\"type\":\"contourcarpet\",\"colorbar\":{\"outlinewidth\":0,\"ticks\":\"\"}}],\"contour\":[{\"type\":\"contour\",\"colorbar\":{\"outlinewidth\":0,\"ticks\":\"\"},\"colorscale\":[[0.0,\"#0d0887\"],[0.1111111111111111,\"#46039f\"],[0.2222222222222222,\"#7201a8\"],[0.3333333333333333,\"#9c179e\"],[0.4444444444444444,\"#bd3786\"],[0.5555555555555556,\"#d8576b\"],[0.6666666666666666,\"#ed7953\"],[0.7777777777777778,\"#fb9f3a\"],[0.8888888888888888,\"#fdca26\"],[1.0,\"#f0f921\"]]}],\"surface\":[{\"type\":\"surface\",\"colorbar\":{\"outlinewidth\":0,\"ticks\":\"\"},\"colorscale\":[[0.0,\"#0d0887\"],[0.1111111111111111,\"#46039f\"],[0.2222222222222222,\"#7201a8\"],[0.3333333333333333,\"#9c179e\"],[0.4444444444444444,\"#bd3786\"],[0.5555555555555556,\"#d8576b\"],[0.6666666666666666,\"#ed7953\"],[0.7777777777777778,\"#fb9f3a\"],[0.8888888888888888,\"#fdca26\"],[1.0,\"#f0f921\"]]}],\"mesh3d\":[{\"type\":\"mesh3d\",\"colorbar\":{\"outlinewidth\":0,\"ticks\":\"\"}}],\"scatter\":[{\"fillpattern\":{\"fillmode\":\"overlay\",\"size\":10,\"solidity\":0.2},\"type\":\"scatter\"}],\"parcoords\":[{\"type\":\"parcoords\",\"line\":{\"colorbar\":{\"outlinewidth\":0,\"ticks\":\"\"}}}],\"scatterpolargl\":[{\"type\":\"scatterpolargl\",\"marker\":{\"colorbar\":{\"outlinewidth\":0,\"ticks\":\"\"}}}],\"bar\":[{\"error_x\":{\"color\":\"#2a3f5f\"},\"error_y\":{\"color\":\"#2a3f5f\"},\"marker\":{\"line\":{\"color\":\"#E5ECF6\",\"width\":0.5},\"pattern\":{\"fillmode\":\"overlay\",\"size\":10,\"solidity\":0.2}},\"type\":\"bar\"}],\"scattergeo\":[{\"type\":\"scattergeo\",\"marker\":{\"colorbar\":{\"outlinewidth\":0,\"ticks\":\"\"}}}],\"scatterpolar\":[{\"type\":\"scatterpolar\",\"marker\":{\"colorbar\":{\"outlinewidth\":0,\"ticks\":\"\"}}}],\"histogram\":[{\"marker\":{\"pattern\":{\"fillmode\":\"overlay\",\"size\":10,\"solidity\":0.2}},\"type\":\"histogram\"}],\"scattergl\":[{\"type\":\"scattergl\",\"marker\":{\"colorbar\":{\"outlinewidth\":0,\"ticks\":\"\"}}}],\"scatter3d\":[{\"type\":\"scatter3d\",\"line\":{\"colorbar\":{\"outlinewidth\":0,\"ticks\":\"\"}},\"marker\":{\"colorbar\":{\"outlinewidth\":0,\"ticks\":\"\"}}}],\"scattermapbox\":[{\"type\":\"scattermapbox\",\"marker\":{\"colorbar\":{\"outlinewidth\":0,\"ticks\":\"\"}}}],\"scatterternary\":[{\"type\":\"scatterternary\",\"marker\":{\"colorbar\":{\"outlinewidth\":0,\"ticks\":\"\"}}}],\"scattercarpet\":[{\"type\":\"scattercarpet\",\"marker\":{\"colorbar\":{\"outlinewidth\":0,\"ticks\":\"\"}}}],\"carpet\":[{\"aaxis\":{\"endlinecolor\":\"#2a3f5f\",\"gridcolor\":\"white\",\"linecolor\":\"white\",\"minorgridcolor\":\"white\",\"startlinecolor\":\"#2a3f5f\"},\"baxis\":{\"endlinecolor\":\"#2a3f5f\",\"gridcolor\":\"white\",\"linecolor\":\"white\",\"minorgridcolor\":\"white\",\"startlinecolor\":\"#2a3f5f\"},\"type\":\"carpet\"}],\"table\":[{\"cells\":{\"fill\":{\"color\":\"#EBF0F8\"},\"line\":{\"color\":\"white\"}},\"header\":{\"fill\":{\"color\":\"#C8D4E3\"},\"line\":{\"color\":\"white\"}},\"type\":\"table\"}],\"barpolar\":[{\"marker\":{\"line\":{\"color\":\"#E5ECF6\",\"width\":0.5},\"pattern\":{\"fillmode\":\"overlay\",\"size\":10,\"solidity\":0.2}},\"type\":\"barpolar\"}],\"pie\":[{\"automargin\":true,\"type\":\"pie\"}]},\"layout\":{\"autotypenumbers\":\"strict\",\"colorway\":[\"#636efa\",\"#EF553B\",\"#00cc96\",\"#ab63fa\",\"#FFA15A\",\"#19d3f3\",\"#FF6692\",\"#B6E880\",\"#FF97FF\",\"#FECB52\"],\"font\":{\"color\":\"#2a3f5f\"},\"hovermode\":\"closest\",\"hoverlabel\":{\"align\":\"left\"},\"paper_bgcolor\":\"white\",\"plot_bgcolor\":\"#E5ECF6\",\"polar\":{\"bgcolor\":\"#E5ECF6\",\"angularaxis\":{\"gridcolor\":\"white\",\"linecolor\":\"white\",\"ticks\":\"\"},\"radialaxis\":{\"gridcolor\":\"white\",\"linecolor\":\"white\",\"ticks\":\"\"}},\"ternary\":{\"bgcolor\":\"#E5ECF6\",\"aaxis\":{\"gridcolor\":\"white\",\"linecolor\":\"white\",\"ticks\":\"\"},\"baxis\":{\"gridcolor\":\"white\",\"linecolor\":\"white\",\"ticks\":\"\"},\"caxis\":{\"gridcolor\":\"white\",\"linecolor\":\"white\",\"ticks\":\"\"}},\"coloraxis\":{\"colorbar\":{\"outlinewidth\":0,\"ticks\":\"\"}},\"colorscale\":{\"sequential\":[[0.0,\"#0d0887\"],[0.1111111111111111,\"#46039f\"],[0.2222222222222222,\"#7201a8\"],[0.3333333333333333,\"#9c179e\"],[0.4444444444444444,\"#bd3786\"],[0.5555555555555556,\"#d8576b\"],[0.6666666666666666,\"#ed7953\"],[0.7777777777777778,\"#fb9f3a\"],[0.8888888888888888,\"#fdca26\"],[1.0,\"#f0f921\"]],\"sequentialminus\":[[0.0,\"#0d0887\"],[0.1111111111111111,\"#46039f\"],[0.2222222222222222,\"#7201a8\"],[0.3333333333333333,\"#9c179e\"],[0.4444444444444444,\"#bd3786\"],[0.5555555555555556,\"#d8576b\"],[0.6666666666666666,\"#ed7953\"],[0.7777777777777778,\"#fb9f3a\"],[0.8888888888888888,\"#fdca26\"],[1.0,\"#f0f921\"]],\"diverging\":[[0,\"#8e0152\"],[0.1,\"#c51b7d\"],[0.2,\"#de77ae\"],[0.3,\"#f1b6da\"],[0.4,\"#fde0ef\"],[0.5,\"#f7f7f7\"],[0.6,\"#e6f5d0\"],[0.7,\"#b8e186\"],[0.8,\"#7fbc41\"],[0.9,\"#4d9221\"],[1,\"#276419\"]]},\"xaxis\":{\"gridcolor\":\"white\",\"linecolor\":\"white\",\"ticks\":\"\",\"title\":{\"standoff\":15},\"zerolinecolor\":\"white\",\"automargin\":true,\"zerolinewidth\":2},\"yaxis\":{\"gridcolor\":\"white\",\"linecolor\":\"white\",\"ticks\":\"\",\"title\":{\"standoff\":15},\"zerolinecolor\":\"white\",\"automargin\":true,\"zerolinewidth\":2},\"scene\":{\"xaxis\":{\"backgroundcolor\":\"#E5ECF6\",\"gridcolor\":\"white\",\"linecolor\":\"white\",\"showbackground\":true,\"ticks\":\"\",\"zerolinecolor\":\"white\",\"gridwidth\":2},\"yaxis\":{\"backgroundcolor\":\"#E5ECF6\",\"gridcolor\":\"white\",\"linecolor\":\"white\",\"showbackground\":true,\"ticks\":\"\",\"zerolinecolor\":\"white\",\"gridwidth\":2},\"zaxis\":{\"backgroundcolor\":\"#E5ECF6\",\"gridcolor\":\"white\",\"linecolor\":\"white\",\"showbackground\":true,\"ticks\":\"\",\"zerolinecolor\":\"white\",\"gridwidth\":2}},\"shapedefaults\":{\"line\":{\"color\":\"#2a3f5f\"}},\"annotationdefaults\":{\"arrowcolor\":\"#2a3f5f\",\"arrowhead\":0,\"arrowwidth\":1},\"geo\":{\"bgcolor\":\"white\",\"landcolor\":\"#E5ECF6\",\"subunitcolor\":\"white\",\"showland\":true,\"showlakes\":true,\"lakecolor\":\"white\"},\"title\":{\"x\":0.05},\"mapbox\":{\"style\":\"light\"}}},\"xaxis\":{\"rangeslider\":{\"visible\":false}}},                        {\"responsive\": true}                    ).then(function(){\n",
       "                            \n",
       "var gd = document.getElementById('d5559c1c-bfe3-4733-ac6c-2191f2252f09');\n",
       "var x = new MutationObserver(function (mutations, observer) {{\n",
       "        var display = window.getComputedStyle(gd).display;\n",
       "        if (!display || display === 'none') {{\n",
       "            console.log([gd, 'removed!']);\n",
       "            Plotly.purge(gd);\n",
       "            observer.disconnect();\n",
       "        }}\n",
       "}});\n",
       "\n",
       "// Listen for the removal of the full notebook cells\n",
       "var notebookContainer = gd.closest('#notebook-container');\n",
       "if (notebookContainer) {{\n",
       "    x.observe(notebookContainer, {childList: true});\n",
       "}}\n",
       "\n",
       "// Listen for the clearing of the current output cell\n",
       "var outputEl = gd.closest('.output');\n",
       "if (outputEl) {{\n",
       "    x.observe(outputEl, {childList: true});\n",
       "}}\n",
       "\n",
       "                        })                };                });            </script>        </div>"
      ]
     },
     "metadata": {},
     "output_type": "display_data"
    }
   ],
   "source": [
    "dfpl = df[3050:3200]\n",
    "fig = go.Figure(data=[go.Candlestick(x=dfpl.index,\n",
    "                                     open=dfpl['open'],\n",
    "                                     high=dfpl['high'],\n",
    "                                     low=dfpl['low'],\n",
    "                                     close=dfpl['Close'])])\n",
    "fig.add_scatter(x=dfpl.index,y=dfpl['pointposition'],mode=\"markers\",\n",
    "                marker=dict(size=5,color=\"Yellow\"),\n",
    "                name=\"Pivot\")\n",
    "\n",
    "fig.update_layout(xaxis_rangeslider_visible=False)\n",
    "fig.show()"
   ]
  },
  {
   "cell_type": "code",
   "execution_count": null,
   "id": "9b3b386d-e763-454b-9728-eb5ceea742c4",
   "metadata": {},
   "outputs": [],
   "source": []
  }
 ],
 "metadata": {
  "kernelspec": {
   "display_name": "Python 3 (ipykernel)",
   "language": "python",
   "name": "python3"
  },
  "language_info": {
   "codemirror_mode": {
    "name": "ipython",
    "version": 3
   },
   "file_extension": ".py",
   "mimetype": "text/x-python",
   "name": "python",
   "nbconvert_exporter": "python",
   "pygments_lexer": "ipython3",
   "version": "3.11.7"
  }
 },
 "nbformat": 4,
 "nbformat_minor": 5
}
